{
 "cells": [
  {
   "cell_type": "code",
   "execution_count": 1,
   "metadata": {},
   "outputs": [],
   "source": [
    "import seaborn as sns\n",
    "import pandas as pd\n",
    "import matplotlib.pyplot as plt\n",
    "%matplotlib inline"
   ]
  },
  {
   "cell_type": "code",
   "execution_count": 2,
   "metadata": {},
   "outputs": [],
   "source": [
    "vader = pd.read_csv('../output/vader.csv')\n",
    "topic = pd.read_csv('../output/topic.csv')"
   ]
  },
  {
   "cell_type": "code",
   "execution_count": 4,
   "metadata": {},
   "outputs": [
    {
     "data": {
      "text/html": [
       "<div>\n",
       "<style scoped>\n",
       "    .dataframe tbody tr th:only-of-type {\n",
       "        vertical-align: middle;\n",
       "    }\n",
       "\n",
       "    .dataframe tbody tr th {\n",
       "        vertical-align: top;\n",
       "    }\n",
       "\n",
       "    .dataframe thead th {\n",
       "        text-align: right;\n",
       "    }\n",
       "</style>\n",
       "<table border=\"1\" class=\"dataframe\">\n",
       "  <thead>\n",
       "    <tr style=\"text-align: right;\">\n",
       "      <th></th>\n",
       "      <th>Unnamed: 0</th>\n",
       "      <th>review_id</th>\n",
       "      <th>review_score</th>\n",
       "      <th>vader_neg</th>\n",
       "      <th>vader_neu</th>\n",
       "      <th>vader_pos</th>\n",
       "      <th>vader_compound</th>\n",
       "    </tr>\n",
       "  </thead>\n",
       "  <tbody>\n",
       "    <tr>\n",
       "      <th>0</th>\n",
       "      <td>0</td>\n",
       "      <td>5204962921</td>\n",
       "      <td>1</td>\n",
       "      <td>0.438</td>\n",
       "      <td>0.562</td>\n",
       "      <td>0.000</td>\n",
       "      <td>-0.9130</td>\n",
       "    </tr>\n",
       "    <tr>\n",
       "      <th>1</th>\n",
       "      <td>1</td>\n",
       "      <td>5204746363</td>\n",
       "      <td>5</td>\n",
       "      <td>0.112</td>\n",
       "      <td>0.629</td>\n",
       "      <td>0.259</td>\n",
       "      <td>0.2732</td>\n",
       "    </tr>\n",
       "    <tr>\n",
       "      <th>2</th>\n",
       "      <td>2</td>\n",
       "      <td>5204362685</td>\n",
       "      <td>3</td>\n",
       "      <td>0.000</td>\n",
       "      <td>0.817</td>\n",
       "      <td>0.183</td>\n",
       "      <td>0.4003</td>\n",
       "    </tr>\n",
       "    <tr>\n",
       "      <th>3</th>\n",
       "      <td>3</td>\n",
       "      <td>5204176051</td>\n",
       "      <td>4</td>\n",
       "      <td>0.205</td>\n",
       "      <td>0.720</td>\n",
       "      <td>0.075</td>\n",
       "      <td>-0.9130</td>\n",
       "    </tr>\n",
       "    <tr>\n",
       "      <th>4</th>\n",
       "      <td>4</td>\n",
       "      <td>5203899933</td>\n",
       "      <td>3</td>\n",
       "      <td>0.055</td>\n",
       "      <td>0.762</td>\n",
       "      <td>0.184</td>\n",
       "      <td>0.5994</td>\n",
       "    </tr>\n",
       "  </tbody>\n",
       "</table>\n",
       "</div>"
      ],
      "text/plain": [
       "   Unnamed: 0   review_id  review_score  vader_neg  vader_neu  vader_pos  \\\n",
       "0           0  5204962921             1      0.438      0.562      0.000   \n",
       "1           1  5204746363             5      0.112      0.629      0.259   \n",
       "2           2  5204362685             3      0.000      0.817      0.183   \n",
       "3           3  5204176051             4      0.205      0.720      0.075   \n",
       "4           4  5203899933             3      0.055      0.762      0.184   \n",
       "\n",
       "   vader_compound  \n",
       "0         -0.9130  \n",
       "1          0.2732  \n",
       "2          0.4003  \n",
       "3         -0.9130  \n",
       "4          0.5994  "
      ]
     },
     "execution_count": 4,
     "metadata": {},
     "output_type": "execute_result"
    }
   ],
   "source": [
    "vader.head()"
   ]
  },
  {
   "cell_type": "code",
   "execution_count": 20,
   "metadata": {},
   "outputs": [
    {
     "data": {
      "text/html": [
       "<div>\n",
       "<style scoped>\n",
       "    .dataframe tbody tr th:only-of-type {\n",
       "        vertical-align: middle;\n",
       "    }\n",
       "\n",
       "    .dataframe tbody tr th {\n",
       "        vertical-align: top;\n",
       "    }\n",
       "\n",
       "    .dataframe thead th {\n",
       "        text-align: right;\n",
       "    }\n",
       "</style>\n",
       "<table border=\"1\" class=\"dataframe\">\n",
       "  <thead>\n",
       "    <tr style=\"text-align: right;\">\n",
       "      <th></th>\n",
       "      <th>Unnamed: 0</th>\n",
       "      <th>Document_No</th>\n",
       "      <th>Dominant_Topic</th>\n",
       "      <th>Topic_Perc_Contrib</th>\n",
       "      <th>Topic_Keywords</th>\n",
       "      <th>review_id</th>\n",
       "    </tr>\n",
       "  </thead>\n",
       "  <tbody>\n",
       "    <tr>\n",
       "      <th>0</th>\n",
       "      <td>0</td>\n",
       "      <td>0</td>\n",
       "      <td>0.0</td>\n",
       "      <td>0.8875</td>\n",
       "      <td>game, level, great, play, life, get, time, boo...</td>\n",
       "      <td>5204962921</td>\n",
       "    </tr>\n",
       "    <tr>\n",
       "      <th>1</th>\n",
       "      <td>1</td>\n",
       "      <td>1</td>\n",
       "      <td>9.0</td>\n",
       "      <td>0.9000</td>\n",
       "      <td>game, app, please, get, play, start, time, boo...</td>\n",
       "      <td>5204746363</td>\n",
       "    </tr>\n",
       "    <tr>\n",
       "      <th>2</th>\n",
       "      <td>2</td>\n",
       "      <td>2</td>\n",
       "      <td>8.0</td>\n",
       "      <td>0.9100</td>\n",
       "      <td>game, level, get, app, one, like, life, every,...</td>\n",
       "      <td>5204362685</td>\n",
       "    </tr>\n",
       "    <tr>\n",
       "      <th>3</th>\n",
       "      <td>3</td>\n",
       "      <td>3</td>\n",
       "      <td>6.0</td>\n",
       "      <td>0.9727</td>\n",
       "      <td>game, level, playing, make, play, get, time, f...</td>\n",
       "      <td>5204176051</td>\n",
       "    </tr>\n",
       "    <tr>\n",
       "      <th>4</th>\n",
       "      <td>4</td>\n",
       "      <td>4</td>\n",
       "      <td>6.0</td>\n",
       "      <td>0.9182</td>\n",
       "      <td>game, level, playing, make, play, get, time, f...</td>\n",
       "      <td>5203899933</td>\n",
       "    </tr>\n",
       "  </tbody>\n",
       "</table>\n",
       "</div>"
      ],
      "text/plain": [
       "   Unnamed: 0  Document_No  Dominant_Topic  Topic_Perc_Contrib  \\\n",
       "0           0            0             0.0              0.8875   \n",
       "1           1            1             9.0              0.9000   \n",
       "2           2            2             8.0              0.9100   \n",
       "3           3            3             6.0              0.9727   \n",
       "4           4            4             6.0              0.9182   \n",
       "\n",
       "                                      Topic_Keywords   review_id  \n",
       "0  game, level, great, play, life, get, time, boo...  5204962921  \n",
       "1  game, app, please, get, play, start, time, boo...  5204746363  \n",
       "2  game, level, get, app, one, like, life, every,...  5204362685  \n",
       "3  game, level, playing, make, play, get, time, f...  5204176051  \n",
       "4  game, level, playing, make, play, get, time, f...  5203899933  "
      ]
     },
     "execution_count": 20,
     "metadata": {},
     "output_type": "execute_result"
    }
   ],
   "source": [
    "topic.head()"
   ]
  },
  {
   "cell_type": "code",
   "execution_count": 29,
   "metadata": {},
   "outputs": [],
   "source": [
    "combined = vader.join(topic[['Dominant_Topic', 'Topic_Perc_Contrib', 'Topic_Keywords']])"
   ]
  },
  {
   "cell_type": "code",
   "execution_count": 31,
   "metadata": {},
   "outputs": [
    {
     "data": {
      "text/html": [
       "<div>\n",
       "<style scoped>\n",
       "    .dataframe tbody tr th:only-of-type {\n",
       "        vertical-align: middle;\n",
       "    }\n",
       "\n",
       "    .dataframe tbody tr th {\n",
       "        vertical-align: top;\n",
       "    }\n",
       "\n",
       "    .dataframe thead th {\n",
       "        text-align: right;\n",
       "    }\n",
       "</style>\n",
       "<table border=\"1\" class=\"dataframe\">\n",
       "  <thead>\n",
       "    <tr style=\"text-align: right;\">\n",
       "      <th></th>\n",
       "      <th>Unnamed: 0</th>\n",
       "      <th>review_id</th>\n",
       "      <th>review_score</th>\n",
       "      <th>vader_neg</th>\n",
       "      <th>vader_neu</th>\n",
       "      <th>vader_pos</th>\n",
       "      <th>vader_compound</th>\n",
       "      <th>Dominant_Topic</th>\n",
       "      <th>Topic_Perc_Contrib</th>\n",
       "      <th>Topic_Keywords</th>\n",
       "    </tr>\n",
       "  </thead>\n",
       "  <tbody>\n",
       "    <tr>\n",
       "      <th>0</th>\n",
       "      <td>0</td>\n",
       "      <td>5204962921</td>\n",
       "      <td>1</td>\n",
       "      <td>0.438</td>\n",
       "      <td>0.562</td>\n",
       "      <td>0.000</td>\n",
       "      <td>-0.9130</td>\n",
       "      <td>0.0</td>\n",
       "      <td>0.8875</td>\n",
       "      <td>game, level, great, play, life, get, time, boo...</td>\n",
       "    </tr>\n",
       "    <tr>\n",
       "      <th>1</th>\n",
       "      <td>1</td>\n",
       "      <td>5204746363</td>\n",
       "      <td>5</td>\n",
       "      <td>0.112</td>\n",
       "      <td>0.629</td>\n",
       "      <td>0.259</td>\n",
       "      <td>0.2732</td>\n",
       "      <td>9.0</td>\n",
       "      <td>0.9000</td>\n",
       "      <td>game, app, please, get, play, start, time, boo...</td>\n",
       "    </tr>\n",
       "    <tr>\n",
       "      <th>2</th>\n",
       "      <td>2</td>\n",
       "      <td>5204362685</td>\n",
       "      <td>3</td>\n",
       "      <td>0.000</td>\n",
       "      <td>0.817</td>\n",
       "      <td>0.183</td>\n",
       "      <td>0.4003</td>\n",
       "      <td>8.0</td>\n",
       "      <td>0.9100</td>\n",
       "      <td>game, level, get, app, one, like, life, every,...</td>\n",
       "    </tr>\n",
       "    <tr>\n",
       "      <th>3</th>\n",
       "      <td>3</td>\n",
       "      <td>5204176051</td>\n",
       "      <td>4</td>\n",
       "      <td>0.205</td>\n",
       "      <td>0.720</td>\n",
       "      <td>0.075</td>\n",
       "      <td>-0.9130</td>\n",
       "      <td>6.0</td>\n",
       "      <td>0.9727</td>\n",
       "      <td>game, level, playing, make, play, get, time, f...</td>\n",
       "    </tr>\n",
       "    <tr>\n",
       "      <th>4</th>\n",
       "      <td>4</td>\n",
       "      <td>5203899933</td>\n",
       "      <td>3</td>\n",
       "      <td>0.055</td>\n",
       "      <td>0.762</td>\n",
       "      <td>0.184</td>\n",
       "      <td>0.5994</td>\n",
       "      <td>6.0</td>\n",
       "      <td>0.9182</td>\n",
       "      <td>game, level, playing, make, play, get, time, f...</td>\n",
       "    </tr>\n",
       "  </tbody>\n",
       "</table>\n",
       "</div>"
      ],
      "text/plain": [
       "   Unnamed: 0   review_id  review_score  vader_neg  vader_neu  vader_pos  \\\n",
       "0           0  5204962921             1      0.438      0.562      0.000   \n",
       "1           1  5204746363             5      0.112      0.629      0.259   \n",
       "2           2  5204362685             3      0.000      0.817      0.183   \n",
       "3           3  5204176051             4      0.205      0.720      0.075   \n",
       "4           4  5203899933             3      0.055      0.762      0.184   \n",
       "\n",
       "   vader_compound  Dominant_Topic  Topic_Perc_Contrib  \\\n",
       "0         -0.9130             0.0              0.8875   \n",
       "1          0.2732             9.0              0.9000   \n",
       "2          0.4003             8.0              0.9100   \n",
       "3         -0.9130             6.0              0.9727   \n",
       "4          0.5994             6.0              0.9182   \n",
       "\n",
       "                                      Topic_Keywords  \n",
       "0  game, level, great, play, life, get, time, boo...  \n",
       "1  game, app, please, get, play, start, time, boo...  \n",
       "2  game, level, get, app, one, like, life, every,...  \n",
       "3  game, level, playing, make, play, get, time, f...  \n",
       "4  game, level, playing, make, play, get, time, f...  "
      ]
     },
     "execution_count": 31,
     "metadata": {},
     "output_type": "execute_result"
    }
   ],
   "source": [
    "combined.head()"
   ]
  },
  {
   "cell_type": "code",
   "execution_count": 64,
   "metadata": {},
   "outputs": [
    {
     "data": {
      "text/plain": [
       "<matplotlib.axes._subplots.AxesSubplot at 0x1a1833ddd8>"
      ]
     },
     "execution_count": 64,
     "metadata": {},
     "output_type": "execute_result"
    },
    {
     "data": {
      "image/png": "[encoded data removed]",
      "text/plain": [
       "<Figure size 864x432 with 1 Axes>"
      ]
     },
     "metadata": {
      "needs_background": "light"
     },
     "output_type": "display_data"
    }
   ],
   "source": [
    "plt.rcParams[\"figure.figsize\"] = (12,6)\n",
    "sns.barplot(x='Dominant_Topic', y='vader_compound',data=combined)"
   ]
  },
  {
   "cell_type": "code",
   "execution_count": 50,
   "metadata": {},
   "outputs": [],
   "source": [
    "topics = combined[['Dominant_Topic', 'Topic_Keywords']].drop_duplicates().sort_values('Dominant_Topic')"
   ]
  },
  {
   "cell_type": "code",
   "execution_count": 53,
   "metadata": {},
   "outputs": [
    {
     "data": {
      "text/html": [
       "<style  type=\"text/css\" >\n",
       "</style><table id=\"T_657976de_1930_11ea_bb9c_a45e60e49229\" ><thead>    <tr>        <th class=\"col_heading level0 col0\" >Dominant_Topic</th>        <th class=\"col_heading level0 col1\" >Topic_Keywords</th>    </tr></thead><tbody>\n",
       "                <tr>\n",
       "                                <td id=\"T_657976de_1930_11ea_bb9c_a45e60e49229row0_col0\" class=\"data row0 col0\" >0</td>\n",
       "                        <td id=\"T_657976de_1930_11ea_bb9c_a45e60e49229row0_col1\" class=\"data row0 col1\" >game, level, great, play, life, get, time, booster, like, thank</td>\n",
       "            </tr>\n",
       "            <tr>\n",
       "                                <td id=\"T_657976de_1930_11ea_bb9c_a45e60e49229row1_col0\" class=\"data row1 col0\" >1</td>\n",
       "                        <td id=\"T_657976de_1930_11ea_bb9c_a45e60e49229row1_col1\" class=\"data row1 col1\" >level, game, play, candy, time, playing, love, update, crush, app</td>\n",
       "            </tr>\n",
       "            <tr>\n",
       "                                <td id=\"T_657976de_1930_11ea_bb9c_a45e60e49229row2_col0\" class=\"data row2 col0\" >2</td>\n",
       "                        <td id=\"T_657976de_1930_11ea_bb9c_a45e60e49229row2_col1\" class=\"data row2 col1\" >game, candy, crush, level, love, booster, good, make, play, please</td>\n",
       "            </tr>\n",
       "            <tr>\n",
       "                                <td id=\"T_657976de_1930_11ea_bb9c_a45e60e49229row3_col0\" class=\"data row3 col0\" >3</td>\n",
       "                        <td id=\"T_657976de_1930_11ea_bb9c_a45e60e49229row3_col1\" class=\"data row3 col1\" >game, fun, get, win, candy, move, play, level, time, love</td>\n",
       "            </tr>\n",
       "            <tr>\n",
       "                                <td id=\"T_657976de_1930_11ea_bb9c_a45e60e49229row4_col0\" class=\"data row4 col0\" >4</td>\n",
       "                        <td id=\"T_657976de_1930_11ea_bb9c_a45e60e49229row4_col1\" class=\"data row4 col1\" >playing, gold, game, really, level, like, buy, bar, one, life</td>\n",
       "            </tr>\n",
       "            <tr>\n",
       "                                <td id=\"T_657976de_1930_11ea_bb9c_a45e60e49229row5_col0\" class=\"data row5 col0\" >5</td>\n",
       "                        <td id=\"T_657976de_1930_11ea_bb9c_a45e60e49229row5_col1\" class=\"data row5 col1\" >game, candy, level, way, awesome, crush, get, time, fun, addicting</td>\n",
       "            </tr>\n",
       "            <tr>\n",
       "                                <td id=\"T_657976de_1930_11ea_bb9c_a45e60e49229row6_col0\" class=\"data row6 col0\" >6</td>\n",
       "                        <td id=\"T_657976de_1930_11ea_bb9c_a45e60e49229row6_col1\" class=\"data row6 col1\" >game, level, playing, make, play, get, time, fun, booster, thing</td>\n",
       "            </tr>\n",
       "            <tr>\n",
       "                                <td id=\"T_657976de_1930_11ea_bb9c_a45e60e49229row7_col0\" class=\"data row7 col0\" >7</td>\n",
       "                        <td id=\"T_657976de_1930_11ea_bb9c_a45e60e49229row7_col1\" class=\"data row7 col1\" >game, love, addictive, life, level, back, candy, fun, also, know</td>\n",
       "            </tr>\n",
       "            <tr>\n",
       "                                <td id=\"T_657976de_1930_11ea_bb9c_a45e60e49229row8_col0\" class=\"data row8 col0\" >8</td>\n",
       "                        <td id=\"T_657976de_1930_11ea_bb9c_a45e60e49229row8_col1\" class=\"data row8 col1\" >game, level, get, app, one, like, life, every, gold, back</td>\n",
       "            </tr>\n",
       "            <tr>\n",
       "                                <td id=\"T_657976de_1930_11ea_bb9c_a45e60e49229row9_col0\" class=\"data row9 col0\" >9</td>\n",
       "                        <td id=\"T_657976de_1930_11ea_bb9c_a45e60e49229row9_col1\" class=\"data row9 col1\" >game, app, please, get, play, start, time, booster, level, hate</td>\n",
       "            </tr>\n",
       "    </tbody></table>"
      ],
      "text/plain": [
       "<pandas.io.formats.style.Styler at 0x1a1b143128>"
      ]
     },
     "execution_count": 53,
     "metadata": {},
     "output_type": "execute_result"
    }
   ],
   "source": [
    "pd.set_option('display.max_colwidth', -1)\n",
    "topics.style.hide_index()"
   ]
  }
 ],
 "metadata": {
  "kernelspec": {
   "display_name": "Python 3",
   "language": "python",
   "name": "python3"
  },
  "language_info": {
   "codemirror_mode": {
    "name": "ipython",
    "version": 3
   },
   "file_extension": ".py",
   "mimetype": "text/x-python",
   "name": "python",
   "nbconvert_exporter": "python",
   "pygments_lexer": "ipython3",
   "version": "3.7.3"
  }
 },
 "nbformat": 4,
 "nbformat_minor": 2
}
